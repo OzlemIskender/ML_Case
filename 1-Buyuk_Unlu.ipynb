{
 "cells": [
  {
   "cell_type": "code",
   "execution_count": 2,
   "metadata": {},
   "outputs": [
    {
     "name": "stdout",
     "output_type": "stream",
     "text": [
      "Bir kelime giriniz:aeh\n"
     ]
    },
    {
     "data": {
      "text/plain": [
       "'Büyük ünlü uyumuna uymaz'"
      ]
     },
     "execution_count": 2,
     "metadata": {},
     "output_type": "execute_result"
    }
   ],
   "source": [
    "kelime=input(\"Bir kelime giriniz:\")\n",
    "def Buyuk_Unlu(kelime):\n",
    "    kalin=[\"a\" , \"ı\" , \"o\" , \"u\" , \"A\" , \"I\" , \"O\" , \"U\"]\n",
    "    ince=[\"e\" , \"i\" , \"ö\" , \"ü\" , \"E\" , \"İ\" , \"Ö\" , \"Ü\" , \"Ü\"]\n",
    "    \n",
    "    kalin1= False\n",
    "    ince1= False\n",
    "    for i in kalin:\n",
    "        for j in kelime:\n",
    "            if i == j:\n",
    "                kalin1= True\n",
    "\n",
    "    for i in ince:\n",
    "        for j in kelime:\n",
    "            if i==j:\n",
    "                ince1= True\n",
    "\n",
    "    if ince1==True and kalin1==True:\n",
    "        return(\"Büyük ünlü uyumuna uymaz\")\n",
    "    else:\n",
    "        return(\"Büyük ünlü uyumuna uyar\")\n",
    "\n",
    "Buyuk_Unlu(kelime)\n",
    "    "
   ]
  },
  {
   "cell_type": "code",
   "execution_count": null,
   "metadata": {},
   "outputs": [],
   "source": []
  }
 ],
 "metadata": {
  "kernelspec": {
   "display_name": "Python 3",
   "language": "python",
   "name": "python3"
  },
  "language_info": {
   "codemirror_mode": {
    "name": "ipython",
    "version": 3
   },
   "file_extension": ".py",
   "mimetype": "text/x-python",
   "name": "python",
   "nbconvert_exporter": "python",
   "pygments_lexer": "ipython3",
   "version": "3.8.5"
  }
 },
 "nbformat": 4,
 "nbformat_minor": 4
}
