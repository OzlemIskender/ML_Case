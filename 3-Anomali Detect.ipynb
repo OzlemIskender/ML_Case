{
 "cells": [
  {
   "cell_type": "code",
   "execution_count": 1,
   "metadata": {},
   "outputs": [],
   "source": [
    "# Using a Python dictionary to act as an adjacency list\n",
    "graph = {\n",
    "    1 : [2,3],\n",
    "    2 : [3],\n",
    "    3 : [4,5],\n",
    "    4 : [5,6]\n",
    "}"
   ]
  },
  {
   "cell_type": "code",
   "execution_count": 2,
   "metadata": {},
   "outputs": [
    {
     "name": "stdout",
     "output_type": "stream",
     "text": [
      "[[2, 3], [3], [4, 5], [5, 6]]\n",
      "True\n"
     ]
    }
   ],
   "source": [
    "liste=[]\n",
    "liste2=[]\n",
    "for i in graph.values():\n",
    "    liste.append(i)\n",
    "print(liste)\n",
    "for i in range(len(liste)):\n",
    "    for j in range(0,len(liste[i])):\n",
    "        liste2.append(liste[i][j])\n",
    "if sorted(liste2)!=sorted(list(set(liste2))):\n",
    "    print(\"True\")\n",
    "else:\n",
    "    print(\"False\")"
   ]
  }
 ],
 "metadata": {
  "kernelspec": {
   "display_name": "Python 3",
   "language": "python",
   "name": "python3"
  },
  "language_info": {
   "codemirror_mode": {
    "name": "ipython",
    "version": 3
   },
   "file_extension": ".py",
   "mimetype": "text/x-python",
   "name": "python",
   "nbconvert_exporter": "python",
   "pygments_lexer": "ipython3",
   "version": "3.8.5"
  }
 },
 "nbformat": 4,
 "nbformat_minor": 4
}
