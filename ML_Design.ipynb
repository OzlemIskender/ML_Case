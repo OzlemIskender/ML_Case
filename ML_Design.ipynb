{
 "cells": [
  {
   "cell_type": "code",
   "execution_count": 1,
   "metadata": {},
   "outputs": [
    {
     "name": "stdout",
     "output_type": "stream",
     "text": [
      "Epoch 1/30\n",
      "125/125 [==============================] - 12s 741us/step - loss: 16.3695\n",
      "Epoch 2/30\n",
      "125/125 [==============================] - 0s 725us/step - loss: 2.2927\n",
      "Epoch 3/30\n",
      "125/125 [==============================] - 0s 721us/step - loss: 0.0784\n",
      "Epoch 4/30\n",
      "125/125 [==============================] - 0s 850us/step - loss: 0.0179\n",
      "Epoch 5/30\n",
      "125/125 [==============================] - 0s 780us/step - loss: 0.0176\n",
      "Epoch 6/30\n",
      "125/125 [==============================] - 0s 752us/step - loss: 0.0158\n",
      "Epoch 7/30\n",
      "125/125 [==============================] - 0s 746us/step - loss: 0.0125\n",
      "Epoch 8/30\n",
      "125/125 [==============================] - 0s 838us/step - loss: 0.0116\n",
      "Epoch 9/30\n",
      "125/125 [==============================] - 0s 778us/step - loss: 0.0112\n",
      "Epoch 10/30\n",
      "125/125 [==============================] - 0s 764us/step - loss: 0.0093\n",
      "Epoch 11/30\n",
      "125/125 [==============================] - 0s 882us/step - loss: 0.0081\n",
      "Epoch 12/30\n",
      "125/125 [==============================] - 0s 979us/step - loss: 0.0068\n",
      "Epoch 13/30\n",
      "125/125 [==============================] - 0s 956us/step - loss: 0.0075\n",
      "Epoch 14/30\n",
      "125/125 [==============================] - 0s 803us/step - loss: 0.0059\n",
      "Epoch 15/30\n",
      "125/125 [==============================] - 0s 767us/step - loss: 0.0063\n",
      "Epoch 16/30\n",
      "125/125 [==============================] - 0s 806us/step - loss: 0.0059\n",
      "Epoch 17/30\n",
      "125/125 [==============================] - 0s 795us/step - loss: 0.0049\n",
      "Epoch 18/30\n",
      "125/125 [==============================] - 0s 772us/step - loss: 0.0052\n",
      "Epoch 19/30\n",
      "125/125 [==============================] - 0s 794us/step - loss: 0.0042\n",
      "Epoch 20/30\n",
      "125/125 [==============================] - 0s 872us/step - loss: 0.0043\n",
      "Epoch 21/30\n",
      "125/125 [==============================] - 0s 934us/step - loss: 0.0040\n",
      "Epoch 22/30\n",
      "125/125 [==============================] - 0s 859us/step - loss: 0.0035\n",
      "Epoch 23/30\n",
      "125/125 [==============================] - 0s 908us/step - loss: 0.0031\n",
      "Epoch 24/30\n",
      "125/125 [==============================] - 0s 899us/step - loss: 0.0032\n",
      "Epoch 25/30\n",
      "125/125 [==============================] - 0s 846us/step - loss: 0.0029\n",
      "Epoch 26/30\n",
      "125/125 [==============================] - 0s 900us/step - loss: 0.0025\n",
      "Epoch 27/30\n",
      "125/125 [==============================] - 0s 937us/step - loss: 0.0024\n",
      "Epoch 28/30\n",
      "125/125 [==============================] - 0s 966us/step - loss: 0.0022\n",
      "Epoch 29/30\n",
      "125/125 [==============================] - 0s 1ms/step - loss: 0.0020\n",
      "Epoch 30/30\n",
      "125/125 [==============================] - 0s 744us/step - loss: 0.0018\n"
     ]
    }
   ],
   "source": [
    "import numpy as np\n",
    "import matplotlib.pyplot as plt\n",
    "import random\n",
    "import math\n",
    "\n",
    "X = []\n",
    "logx=[]\n",
    "logy=[]\n",
    "\n",
    "for i in range(1000):\n",
    "    X.append([random.randint(1,100), random.randint(1,100)])\n",
    "    logx.append([np.log(X[i][0]), np.log(X[i][1])])\n",
    "    logy.append([logx[i][0] + logx[i][1]])\n",
    "\n",
    "\n",
    "logx = np.array(logx)\n",
    "logy = np.array(logy).reshape(-1,1)\n",
    "\n",
    "\n",
    "#### ml algo #######\n",
    "from sklearn.model_selection import train_test_split\n",
    "X_train,X_test,y_train,y_test = train_test_split(logx, logy,test_size=0.2)\n",
    "\n",
    "\n",
    "from sklearn.linear_model import LinearRegression\n",
    "lr = LinearRegression()\n",
    "lr.fit(X_train, y_train)\n",
    "\n",
    "lr.score(X_test, y_test)\n",
    "\n",
    "\n",
    "############### neural network\n",
    "\n",
    "from keras.models import Sequential\n",
    "from keras.layers import Dense\n",
    "\n",
    "model = Sequential()\n",
    "\n",
    "model.add(Dense(4,input_dim=2))\n",
    "model.add(Dense(1, activation='relu'))\n",
    "\n",
    "model.compile(optimizer='adam', loss='mse')\n",
    "\n",
    "history= model.fit(logx, logy, epochs=30, batch_size=8)\n",
    "\n",
    "\n"
   ]
  },
  {
   "cell_type": "code",
   "execution_count": 2,
   "metadata": {},
   "outputs": [],
   "source": [
    "test = np.array([np.log(200), np.log(5)]).reshape(-1,1).T\n",
    "pred = model.predict(test)\n",
    "pred = math.exp(pred)\n",
    "\n",
    "\n",
    "#### ml algo\n",
    "pred = lr.predict(test)\n",
    "pred=math.exp(pred)"
   ]
  },
  {
   "cell_type": "code",
   "execution_count": 3,
   "metadata": {},
   "outputs": [
    {
     "data": {
      "text/plain": [
       "1000.0000000000024"
      ]
     },
     "execution_count": 3,
     "metadata": {},
     "output_type": "execute_result"
    }
   ],
   "source": [
    "pred"
   ]
  }
 ],
 "metadata": {
  "kernelspec": {
   "display_name": "Python 3",
   "language": "python",
   "name": "python3"
  },
  "language_info": {
   "codemirror_mode": {
    "name": "ipython",
    "version": 3
   },
   "file_extension": ".py",
   "mimetype": "text/x-python",
   "name": "python",
   "nbconvert_exporter": "python",
   "pygments_lexer": "ipython3",
   "version": "3.8.5"
  }
 },
 "nbformat": 4,
 "nbformat_minor": 4
}
